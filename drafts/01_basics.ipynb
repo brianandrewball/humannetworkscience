{
 "cells": [
  {
   "cell_type": "markdown",
   "metadata": {
    "id": "StPNbPOaR-aw"
   },
   "source": [
    "# Create a Graph Manually"
   ]
  },
  {
   "cell_type": "markdown",
   "metadata": {},
   "source": [
    "Networkx is a Python library dedicated to networks and graph computing. We begin by importing this library and then using its built in tools to create some graphs. At first, the graph we create is empty."
   ]
  },
  {
   "cell_type": "code",
   "execution_count": null,
   "metadata": {
    "id": "B6wa4NYaHLQ3"
   },
   "outputs": [],
   "source": [
    "import networkx as nx\n",
    "G = nx.Graph()"
   ]
  },
  {
   "cell_type": "markdown",
   "metadata": {},
   "source": [
    "Then we add some nodes: first a single node; then a list of nodes."
   ]
  },
  {
   "cell_type": "code",
   "execution_count": null,
   "metadata": {
    "id": "SlLJEmbNH_fz"
   },
   "outputs": [],
   "source": [
    "G.add_node(1)\n",
    "G.add_nodes_from([2, 3])"
   ]
  },
  {
   "cell_type": "markdown",
   "metadata": {},
   "source": [
    "Once we have some nodes, we add some connections betwen them, or edges. There are various ways of doing this, both individually..."
   ]
  },
  {
   "cell_type": "code",
   "execution_count": null,
   "metadata": {
    "id": "K_l3s4ohIWSj"
   },
   "outputs": [],
   "source": [
    "G.add_edge(1, 2)\n",
    "e = (2, 3)\n",
    "G.add_edge(*e)"
   ]
  },
  {
   "cell_type": "markdown",
   "metadata": {},
   "source": [
    "... and in batches."
   ]
  },
  {
   "cell_type": "code",
   "execution_count": null,
   "metadata": {
    "id": "MQuGwI5AIXNT"
   },
   "outputs": [],
   "source": [
    "G.add_edges_from([(1, 2), (1, 3)])"
   ]
  },
  {
   "cell_type": "markdown",
   "metadata": {
    "id": "KtlcaZRKSo1o"
   },
   "source": [
    "## Display the Graph"
   ]
  },
  {
   "cell_type": "markdown",
   "metadata": {},
   "source": [
    "Once we have created a graph, and populated it with nodes and edges, it would be nice to see what it looks like. We can draw graphs using the built in tool for this purpose in networkx."
   ]
  },
  {
   "cell_type": "code",
   "execution_count": null,
   "metadata": {
    "colab": {
     "base_uri": "https://localhost:8080/",
     "height": 406
    },
    "id": "TGFzwRx_I48p",
    "outputId": "d05a66d4-b113-4b71-8bab-829a7ff27172"
   },
   "outputs": [],
   "source": [
    "nx.draw(G, with_labels=True, font_weight='bold')"
   ]
  },
  {
   "cell_type": "markdown",
   "metadata": {},
   "source": [
    "Here is a graph of the research team, connected by shared academic discipline."
   ]
  },
  {
   "cell_type": "code",
   "execution_count": null,
   "metadata": {},
   "outputs": [],
   "source": [
    "RT = nx.Graph()\n",
    "RT.add_nodes_from(['Alex', 'Amil', 'Brian', 'David', 'Federica', 'Giovanni', 'Maria', 'Prudhvi'])\n",
    "# Draw an edge where there is a shared discipline (chosen from computer/data science, philosophy, and physics [with some rough assumptions about who does what])\n",
    "RT.add_edges_from([('Alex', 'Amil'), ('Alex', 'Giovanni'), ('Alex', 'Prudhvi'), ('Amil', 'Giovanni'), ('Amil', 'Prudhvi'), ('Brian', 'David'), ('Brian', 'Federica'), ('Brian', 'Maria'), ('David', 'Federica'), ('David', 'Giovanni'), ('David', 'Maria'), ('Federica', 'Maria'), ('Giovanni', 'Prudhvi')])\n",
    "nx.draw(RT, with_labels=True)"
   ]
  },
  {
   "cell_type": "markdown",
   "metadata": {
    "id": "gVqJVELhTT3f"
   },
   "source": [
    "# Create Graphs Using Generators"
   ]
  },
  {
   "cell_type": "markdown",
   "metadata": {},
   "source": [
    "Networkx also contains a number of algorithms for generating graphs of various kinds. For example, we can create a random (Erdos-Renyi) graph with a given number of nodes, and a given probability of there being an edge between any two given nodes."
   ]
  },
  {
   "cell_type": "code",
   "execution_count": null,
   "metadata": {
    "id": "oy3m0XrHKW9H"
   },
   "outputs": [],
   "source": [
    "er = nx.erdos_renyi_graph(30, 0.15)"
   ]
  },
  {
   "cell_type": "code",
   "execution_count": null,
   "metadata": {
    "colab": {
     "base_uri": "https://localhost:8080/",
     "height": 406
    },
    "id": "0tf4e2D-KeYf",
    "outputId": "7158d556-c75a-47f7-f755-4d725fd99874"
   },
   "outputs": [],
   "source": [
    "nx.draw(er, with_labels=True, font_weight='bold')"
   ]
  },
  {
   "cell_type": "markdown",
   "metadata": {},
   "source": [
    "Equally, we can generate a Watts-Strogatz graph, which has a certain number of nodes intially arranged in a ring, or circle, with each node having a fixed number of nearest neighbours (that determines the thickness of the ring). There is then a specified probability for each edge that it gets rewired to connect the node at one end to another node chosen at random. "
   ]
  },
  {
   "cell_type": "code",
   "execution_count": null,
   "metadata": {
    "id": "u8leVhpgKuoz"
   },
   "outputs": [],
   "source": [
    "ws = nx.watts_strogatz_graph(30, 2, 0.1)"
   ]
  },
  {
   "cell_type": "code",
   "execution_count": null,
   "metadata": {
    "colab": {
     "base_uri": "https://localhost:8080/",
     "height": 406
    },
    "id": "U9wwghLaKzU2",
    "outputId": "a1fe1966-2fc0-4064-dee7-83b2047fed6c"
   },
   "outputs": [],
   "source": [
    "nx.draw(ws, with_labels=True, font_weight='bold')"
   ]
  },
  {
   "cell_type": "markdown",
   "metadata": {},
   "source": [
    "We can also generate graphs using the preferential attachment model of Barabasi and Albert. Here we specify the number of nodes in the graph, and the number of edges to add when each new node is added. The nodes are added sequential, and are attached by edges to existing nodes with a probability that is determined by, and proportional to, the number of edges those existing edges already have. Thus, already well-connected nodes accumulate even more new nodes as the graph expands."
   ]
  },
  {
   "cell_type": "code",
   "execution_count": null,
   "metadata": {
    "id": "aMI4o6lwK_CL"
   },
   "outputs": [],
   "source": [
    "ba = nx.barabasi_albert_graph(30, 5)"
   ]
  },
  {
   "cell_type": "code",
   "execution_count": null,
   "metadata": {
    "colab": {
     "base_uri": "https://localhost:8080/",
     "height": 406
    },
    "id": "kYhKWKxzLD6w",
    "outputId": "73174b33-1329-481f-b38a-fa0760914ab6"
   },
   "outputs": [],
   "source": [
    "nx.draw(ba, with_labels=True, font_weight='bold')"
   ]
  },
  {
   "cell_type": "markdown",
   "metadata": {
    "id": "YkZ0qGKeTtMr"
   },
   "source": [
    "# Analyze Network Structure"
   ]
  },
  {
   "cell_type": "markdown",
   "metadata": {},
   "source": [
    "As we begin to analyze the structures of our graphs, it will be useful to be able to have some further visualization tools - so we import them here from the pyplot module of the matplotlib library. "
   ]
  },
  {
   "cell_type": "code",
   "execution_count": null,
   "metadata": {
    "id": "gSjAIGOtI355"
   },
   "outputs": [],
   "source": [
    "import matplotlib.pyplot as plt"
   ]
  },
  {
   "cell_type": "markdown",
   "metadata": {
    "id": "1gzSQhlQUh6p"
   },
   "source": [
    "## Erdos-Renyi Random Graph"
   ]
  },
  {
   "cell_type": "markdown",
   "metadata": {},
   "source": [
    "The degree of a node is the number of edges it has. Here we produce a list of the degrees of the nodes in the random (Erdos-Renyi) graph we create earlier."
   ]
  },
  {
   "cell_type": "code",
   "execution_count": null,
   "metadata": {
    "colab": {
     "base_uri": "https://localhost:8080/"
    },
    "id": "WaKv6bSiOa-a",
    "outputId": "391fbef0-c677-476e-d946-b85267ecd067"
   },
   "outputs": [],
   "source": [
    "sorted(d for n, d in er.degree())"
   ]
  },
  {
   "cell_type": "markdown",
   "metadata": {},
   "source": [
    "And here we display this information visusally, in the form of a histogram."
   ]
  },
  {
   "cell_type": "code",
   "execution_count": null,
   "metadata": {
    "colab": {
     "base_uri": "https://localhost:8080/",
     "height": 430
    },
    "id": "HQaRD5s5lY5D",
    "outputId": "d4c8aa24-dc26-4292-87dd-a5622c7a77c3"
   },
   "outputs": [],
   "source": [
    "    degrees = [er.degree(n) for n in er.nodes()]\n",
    "    max_degrees = max(degrees)\n",
    "    min_degrees = min(degrees) # or 0\n",
    "    bins    = range(min_degrees, max_degrees + 2)\n",
    "    plt.xticks(range(max_degrees+2))\n",
    "    plt.hist(degrees, bins=bins)\n",
    "    plt.show()"
   ]
  },
  {
   "cell_type": "markdown",
   "metadata": {},
   "source": [
    "The clustering coefficient of a node captures how many of that node's immediate connections are connected to one another - or how many of the possible triangles involving that node and its neighbours actually do make triangles. Here we call a function from network x that returns a list giving the clustering coefficient of each node."
   ]
  },
  {
   "cell_type": "code",
   "execution_count": null,
   "metadata": {
    "colab": {
     "base_uri": "https://localhost:8080/"
    },
    "id": "Sw_rYKbGOitB",
    "outputId": "04733b11-6a96-42f2-d2d3-30bee771441f"
   },
   "outputs": [],
   "source": [
    "nx.clustering(er)"
   ]
  },
  {
   "cell_type": "markdown",
   "metadata": {},
   "source": [
    "The average clustering in a graph is just the average of the clustering coefficients of its nodes."
   ]
  },
  {
   "cell_type": "code",
   "execution_count": null,
   "metadata": {
    "colab": {
     "base_uri": "https://localhost:8080/"
    },
    "id": "LtTCpAiMPmUz",
    "outputId": "fc156c59-710b-4a5b-a245-5dfecfba5152"
   },
   "outputs": [],
   "source": [
    "nx.average_clustering(er)"
   ]
  },
  {
   "cell_type": "markdown",
   "metadata": {},
   "source": [
    "The density of a network is the fraction of the possible edges that could relate the nodes that actually do so."
   ]
  },
  {
   "cell_type": "code",
   "execution_count": null,
   "metadata": {
    "colab": {
     "base_uri": "https://localhost:8080/"
    },
    "id": "Y95OprvlPTg2",
    "outputId": "5af80991-5784-401d-e065-f580007ca99c"
   },
   "outputs": [],
   "source": [
    "nx.density(er)"
   ]
  },
  {
   "cell_type": "markdown",
   "metadata": {},
   "source": [
    "And the average shortest path length in a graph is an average, for each pair of nodes in the graph, of the length of the shortest path between those nodes. Working this out can be computationally expensive."
   ]
  },
  {
   "cell_type": "code",
   "execution_count": null,
   "metadata": {
    "colab": {
     "base_uri": "https://localhost:8080/"
    },
    "id": "KgzmEFiFP1Fn",
    "outputId": "4a827e6a-80c0-4c75-db96-0273bcd1d1b2"
   },
   "outputs": [],
   "source": [
    "nx.average_shortest_path_length(er)"
   ]
  },
  {
   "cell_type": "markdown",
   "metadata": {
    "id": "FM5VamzAUxBr"
   },
   "source": [
    "## Watts-Strogatz Small World Graph"
   ]
  },
  {
   "cell_type": "markdown",
   "metadata": {},
   "source": [
    "In this section, we get the same information as before, now in relation to the Watts-Strogatz graph we generated previously."
   ]
  },
  {
   "cell_type": "code",
   "execution_count": null,
   "metadata": {
    "colab": {
     "base_uri": "https://localhost:8080/"
    },
    "id": "iTSPgFkeQCK4",
    "outputId": "a1a0e3bb-567c-4c83-b37e-c74d829f03b2"
   },
   "outputs": [],
   "source": [
    "sorted(d for n, d in ws.degree())"
   ]
  },
  {
   "cell_type": "code",
   "execution_count": null,
   "metadata": {
    "colab": {
     "base_uri": "https://localhost:8080/",
     "height": 430
    },
    "id": "Ao4YscvymEjL",
    "outputId": "383b9690-61ae-4324-94d6-2c1a2c8d0a66"
   },
   "outputs": [],
   "source": [
    "    ws_degrees = [ws.degree(n) for n in ws.nodes()]\n",
    "    max_degrees = max(ws_degrees)\n",
    "    min_degrees = min(ws_degrees) # or 0\n",
    "    bins    = range(min_degrees, max_degrees + 2)\n",
    "    plt.xticks(range(max_degrees+2))\n",
    "    \n",
    "    plt.hist(ws_degrees, bins=bins)\n",
    "    plt.show()"
   ]
  },
  {
   "cell_type": "code",
   "execution_count": null,
   "metadata": {
    "colab": {
     "base_uri": "https://localhost:8080/"
    },
    "id": "wLrhdX9rQPN3",
    "outputId": "ee4ef234-d96d-4eb1-e396-f7c3c8268196"
   },
   "outputs": [],
   "source": [
    "nx.clustering(ws)"
   ]
  },
  {
   "cell_type": "code",
   "execution_count": null,
   "metadata": {
    "colab": {
     "base_uri": "https://localhost:8080/"
    },
    "id": "FdGdakBXRXwB",
    "outputId": "4b922185-16ec-4071-b657-a4a56f72837a"
   },
   "outputs": [],
   "source": [
    "nx.average_clustering(ws)"
   ]
  },
  {
   "cell_type": "code",
   "execution_count": null,
   "metadata": {
    "colab": {
     "base_uri": "https://localhost:8080/"
    },
    "id": "aEozgfe7RbS3",
    "outputId": "7a0d1c18-71ad-4ceb-b9e7-1ad3288b3648"
   },
   "outputs": [],
   "source": [
    "nx.density(ws)"
   ]
  },
  {
   "cell_type": "code",
   "execution_count": null,
   "metadata": {
    "colab": {
     "base_uri": "https://localhost:8080/"
    },
    "id": "h6OuEh1cTqF5",
    "outputId": "7ceb7aef-389c-46b6-d1db-2b8d165d2e73"
   },
   "outputs": [],
   "source": [
    "nx.average_shortest_path_length(ws)"
   ]
  },
  {
   "cell_type": "markdown",
   "metadata": {
    "id": "eccckUQrVCqd"
   },
   "source": [
    "## Barabasi-Albert Preferential Attachment Graph"
   ]
  },
  {
   "cell_type": "markdown",
   "metadata": {},
   "source": [
    "And now we get that information about our Barabasi-Albert graph."
   ]
  },
  {
   "cell_type": "code",
   "execution_count": null,
   "metadata": {
    "colab": {
     "base_uri": "https://localhost:8080/"
    },
    "id": "zNo0NOiyR0pI",
    "outputId": "e97ed6bc-347c-49b6-9ab8-ad2338342d05"
   },
   "outputs": [],
   "source": [
    "sorted(d for n, d in ba.degree())"
   ]
  },
  {
   "cell_type": "code",
   "execution_count": null,
   "metadata": {
    "colab": {
     "base_uri": "https://localhost:8080/",
     "height": 430
    },
    "id": "KWyb-9RImpNB",
    "outputId": "575fe803-25ad-46b4-b80f-652bbae6cdb1"
   },
   "outputs": [],
   "source": [
    "    ba_degrees = [ba.degree(n) for n in ba.nodes()]\n",
    "    \n",
    "    max_degrees = max(ba_degrees)\n",
    "    min_degrees = min(ba_degrees) # or 0\n",
    "    bins    = range(min_degrees, max_degrees + 2)\n",
    "\n",
    "    plt.xticks(range(max_degrees+2))\n",
    "\n",
    "    plt.hist(ba_degrees, bins=bins)\n",
    "    plt.show()"
   ]
  },
  {
   "cell_type": "code",
   "execution_count": null,
   "metadata": {
    "colab": {
     "base_uri": "https://localhost:8080/"
    },
    "id": "n3vpr85TT7py",
    "outputId": "30657425-4385-44d6-ed82-8917c9589a22"
   },
   "outputs": [],
   "source": [
    "nx.clustering(ba)"
   ]
  },
  {
   "cell_type": "code",
   "execution_count": null,
   "metadata": {
    "colab": {
     "base_uri": "https://localhost:8080/"
    },
    "id": "-IUEMraGULNo",
    "outputId": "55a8484a-c9c1-4bc4-c948-6932096413e0"
   },
   "outputs": [],
   "source": [
    "nx.average_clustering(ba)"
   ]
  },
  {
   "cell_type": "code",
   "execution_count": null,
   "metadata": {
    "colab": {
     "base_uri": "https://localhost:8080/"
    },
    "id": "4vwG2IgrUSfU",
    "outputId": "fd8a571a-120b-46df-c80b-fc1efd0fcf17"
   },
   "outputs": [],
   "source": [
    "nx.average_shortest_path_length(ba)"
   ]
  },
  {
   "cell_type": "markdown",
   "metadata": {},
   "source": [
    "# Comparison Table"
   ]
  },
  {
   "cell_type": "code",
   "execution_count": null,
   "metadata": {},
   "outputs": [],
   "source": [
    "# round(, 2) will round the numbers to 2 decimal places\n",
    "table = [\n",
    "    [\"Metric\", \"Erdos-Renyi\", \"Watts-Strogatz\", \"Barabasi-Albert\"],\n",
    "    [\"--------------------\",\"---------------\",\"---------------\",\"---------------\"],\n",
    "    [\"Nodes\", er.number_of_nodes(), ws.number_of_nodes(), ba.number_of_nodes()],\n",
    "    [\"Edges\", er.number_of_edges(), ws.number_of_edges(), ba.number_of_edges()],\n",
    "    [\"Avg Clustering\", round(nx.average_clustering(er), 2), round(nx.average_clustering(ws), 2), round(nx.average_clustering(ba), 2)],\n",
    "    [\"Avg Shortest Path\", round(nx.average_shortest_path_length(er), 2), round(nx.average_shortest_path_length(ws), 2), round(nx.average_shortest_path_length(ba), 2)],\n",
    "    [\"Density\", round(nx.density(er), 2), round(nx.density(ws), 2), round(nx.density(ba), 2)]\n",
    "]\n",
    "\n",
    "# Below we format the output as a simple table. The output: {:<20} means left-align and pad to 20 characters.\n",
    "# str() converts each value to a string to ensure consistent formatting.\n",
    "for row in table:\n",
    "    print(\"{:<20} {:<15} {:<15} {:<15}\".format(str(row[0]), str(row[1]), str(row[2]), str(row[3])))\n",
    "\n"
   ]
  },
  {
   "cell_type": "markdown",
   "metadata": {
    "id": "B9OvkDIiZZov"
   },
   "source": [
    "# Import Graphs"
   ]
  },
  {
   "cell_type": "markdown",
   "metadata": {},
   "source": [
    "So far we have generated the graphs we are analyzing ourselves, either manually or algorithmically. But it is also possible to import a graph from a pre-existing dataset. To analyze these large datasets, it is again useful to import some code from existing Python libraries."
   ]
  },
  {
   "cell_type": "code",
   "execution_count": null,
   "metadata": {
    "id": "vdY3ei0jg5Hp"
   },
   "outputs": [],
   "source": [
    "import sys, math"
   ]
  },
  {
   "cell_type": "code",
   "execution_count": null,
   "metadata": {
    "id": "tfZ1a0hGg_jU"
   },
   "outputs": [],
   "source": [
    "%pylab inline"
   ]
  },
  {
   "cell_type": "code",
   "execution_count": null,
   "metadata": {
    "id": "qCK-qjr7hHV8"
   },
   "outputs": [],
   "source": [
    "import collections as col"
   ]
  },
  {
   "cell_type": "markdown",
   "metadata": {
    "id": "qtcbZOBVVfFY"
   },
   "source": [
    "## College Message"
   ]
  },
  {
   "cell_type": "markdown",
   "metadata": {},
   "source": [
    "Here we look at (a simplification of) the College Message graph available from the Stanford Network Analysis Project: https://snap.stanford.edu/"
   ]
  },
  {
   "cell_type": "markdown",
   "metadata": {},
   "source": [
    "We indicate where the file is that contains the information about this graph."
   ]
  },
  {
   "cell_type": "code",
   "execution_count": null,
   "metadata": {
    "id": "OYpi2h2chRTK"
   },
   "outputs": [],
   "source": [
    "filepath = '../CollegeMsg/CollegeMsg-Flattened.txt'"
   ]
  },
  {
   "cell_type": "markdown",
   "metadata": {},
   "source": [
    "We create an empty graph."
   ]
  },
  {
   "cell_type": "code",
   "execution_count": null,
   "metadata": {},
   "outputs": [],
   "source": [
    "CMsg = nx.Graph()"
   ]
  },
  {
   "cell_type": "markdown",
   "metadata": {},
   "source": [
    "And we then read the list of edges in our file into the graph."
   ]
  },
  {
   "cell_type": "code",
   "execution_count": null,
   "metadata": {},
   "outputs": [],
   "source": [
    "fh = open(filepath, \"r\")\n",
    "for line in fh.readlines():\n",
    "    s = line.strip().split()\n",
    "    if s[0] != \"#\":\n",
    "        origin = int(s[0])\n",
    "        dest = int(s[1])\n",
    "        CMsg.add_edge(origin, dest)\n",
    "fh.close()"
   ]
  },
  {
   "cell_type": "markdown",
   "metadata": {},
   "source": [
    "We print out the number of nodes and edges in our graph."
   ]
  },
  {
   "cell_type": "code",
   "execution_count": null,
   "metadata": {},
   "outputs": [],
   "source": [
    "print(\"The graph has\", len(CMsg), \"nodes and\", len(CMsg.edges()), \"edges\")"
   ]
  },
  {
   "cell_type": "markdown",
   "metadata": {},
   "source": [
    "A graph is connected if there is a path between any two nodes it contains. Here we check whether the College Message graph is connected."
   ]
  },
  {
   "cell_type": "code",
   "execution_count": null,
   "metadata": {},
   "outputs": [],
   "source": [
    "print(\"Is the graph simply connected?\", nx.is_connected(CMsg))"
   ]
  },
  {
   "cell_type": "markdown",
   "metadata": {},
   "source": [
    "Here we condense the above into some briefer code."
   ]
  },
  {
   "cell_type": "code",
   "execution_count": null,
   "metadata": {},
   "outputs": [],
   "source": [
    "CMsg = nx.read_edgelist(filepath)\n",
    "CMsg.number_of_edges(), CMsg.number_of_nodes(), nx.is_connected(CMsg)"
   ]
  },
  {
   "cell_type": "markdown",
   "metadata": {},
   "source": [
    "Here we find out how many connected sub-graphs there are in the College Message graph."
   ]
  },
  {
   "cell_type": "code",
   "execution_count": null,
   "metadata": {},
   "outputs": [],
   "source": [
    "print(\"The graph has\", nx.number_connected_components(CMsg), \"connected components\")"
   ]
  },
  {
   "cell_type": "markdown",
   "metadata": {},
   "source": [
    "And now we determine how many nodes there are in each of these subgraphs."
   ]
  },
  {
   "cell_type": "code",
   "execution_count": null,
   "metadata": {},
   "outputs": [],
   "source": [
    "for k in nx.connected_components(CMsg):\n",
    "    print(len(k))"
   ]
  },
  {
   "cell_type": "markdown",
   "metadata": {},
   "source": [
    "In the next few cells, we create a new graph, which is the largest connected component of our original graph."
   ]
  },
  {
   "cell_type": "code",
   "execution_count": null,
   "metadata": {},
   "outputs": [],
   "source": [
    "nx.connected_components(CMsg)"
   ]
  },
  {
   "cell_type": "code",
   "execution_count": null,
   "metadata": {},
   "outputs": [],
   "source": [
    "graphs = list(nx.connected_components(CMsg))"
   ]
  },
  {
   "cell_type": "code",
   "execution_count": null,
   "metadata": {},
   "outputs": [],
   "source": [
    "CCMsg = CMsg.subgraph(graphs[0])"
   ]
  },
  {
   "cell_type": "markdown",
   "metadata": {},
   "source": [
    "What is the size of (i.e. number of nodes in) that graph?"
   ]
  },
  {
   "cell_type": "code",
   "execution_count": null,
   "metadata": {},
   "outputs": [],
   "source": [
    "len(CCMsg)"
   ]
  },
  {
   "cell_type": "markdown",
   "metadata": {},
   "source": [
    "How many nodes in the original graph have been excluded?"
   ]
  },
  {
   "cell_type": "code",
   "execution_count": null,
   "metadata": {},
   "outputs": [],
   "source": [
    "print(len(CMsg) - len(CCMsg))"
   ]
  },
  {
   "cell_type": "markdown",
   "metadata": {},
   "source": [
    "Is the new graph connected?"
   ]
  },
  {
   "cell_type": "code",
   "execution_count": null,
   "metadata": {},
   "outputs": [],
   "source": [
    "print(\"Check that the graph is now connected\")\n",
    "nx.is_connected(CCMsg)"
   ]
  },
  {
   "cell_type": "markdown",
   "metadata": {},
   "source": [
    "Now we turn to analyzing the structure of the new graph. We begin by counting the triangles at each node."
   ]
  },
  {
   "cell_type": "code",
   "execution_count": null,
   "metadata": {},
   "outputs": [],
   "source": [
    "nx.triangles(CCMsg)"
   ]
  },
  {
   "cell_type": "markdown",
   "metadata": {},
   "source": [
    "Then we work out the total number of triangles in the graph."
   ]
  },
  {
   "cell_type": "code",
   "execution_count": null,
   "metadata": {},
   "outputs": [],
   "source": [
    "tt = sum(list(nx.triangles(CCMsg).values()))/3\n",
    "print(tt)"
   ]
  },
  {
   "cell_type": "markdown",
   "metadata": {},
   "source": [
    "And here we compute another measure of clustering in the graph: the transitivity of a graph is the total number of triangles in the graph divided by the number of possible triangles in a graph of that size."
   ]
  },
  {
   "cell_type": "code",
   "execution_count": null,
   "metadata": {},
   "outputs": [],
   "source": [
    "print(nx.transitivity(CCMsg))"
   ]
  },
  {
   "cell_type": "markdown",
   "metadata": {},
   "source": [
    "Notice that this measure differs from the average clustering."
   ]
  },
  {
   "cell_type": "code",
   "execution_count": null,
   "metadata": {},
   "outputs": [],
   "source": [
    "print(\"The average clustering coefficient of the College Message network is\")\n",
    "nx.average_clustering(CCMsg)"
   ]
  },
  {
   "cell_type": "markdown",
   "metadata": {},
   "source": [
    "Here we work out the average shortest path length in the graph: recall that this is computationally expensive!"
   ]
  },
  {
   "cell_type": "code",
   "execution_count": null,
   "metadata": {},
   "outputs": [],
   "source": [
    "nx.average_shortest_path_length(CCMsg)"
   ]
  },
  {
   "cell_type": "markdown",
   "metadata": {},
   "source": [
    "And we compare this to the logarithm of the size of the graph. Since they are roughly the same we say (following Watts and Strogatz) that the College Message network is a small world."
   ]
  },
  {
   "cell_type": "code",
   "execution_count": null,
   "metadata": {},
   "outputs": [],
   "source": [
    "np.log10(len(CCMsg))"
   ]
  },
  {
   "cell_type": "markdown",
   "metadata": {},
   "source": [
    "## Karate"
   ]
  },
  {
   "cell_type": "markdown",
   "metadata": {},
   "source": [
    "A famous graph in network science is that of Zachary's karate club. Networkx has some code that directly generates this graph. What are some of its structural properties? And what does it look like?"
   ]
  },
  {
   "cell_type": "code",
   "execution_count": null,
   "metadata": {},
   "outputs": [],
   "source": [
    "k = nx.karate_club_graph()\n",
    "k.number_of_nodes(), k.number_of_edges()"
   ]
  },
  {
   "cell_type": "code",
   "execution_count": null,
   "metadata": {},
   "outputs": [],
   "source": [
    "print(nx.density(k), nx.average_clustering(k), nx.average_shortest_path_length(k))"
   ]
  },
  {
   "cell_type": "code",
   "execution_count": null,
   "metadata": {},
   "outputs": [],
   "source": [
    "nx.draw(k)"
   ]
  },
  {
   "cell_type": "code",
   "execution_count": null,
   "metadata": {},
   "outputs": [],
   "source": [
    "k_degree_sequence = sorted((d for n, d in k.degree()), reverse=True)\n",
    "print(f\"Average degree: {np.average(k_degree_sequence)}\")\n",
    "print(f\"Clustering coefficient: {nx.average_clustering(k)}\")"
   ]
  },
  {
   "cell_type": "markdown",
   "metadata": {
    "id": "s03bxn7naTFf"
   },
   "source": [
    "## Les Miserables"
   ]
  },
  {
   "cell_type": "markdown",
   "metadata": {},
   "source": [
    "Of potential interest to literary scholars, networkx also has a means of generating a graph of characters in Victor Hugo's Les Miserables who appear in the same scene (or at least, who are mentioned within a certain distance of one another in the text). We examine this graph here."
   ]
  },
  {
   "cell_type": "code",
   "execution_count": null,
   "metadata": {},
   "outputs": [],
   "source": [
    "les = nx.les_miserables_graph()\n",
    "les.number_of_nodes(), les.number_of_edges()"
   ]
  },
  {
   "cell_type": "code",
   "execution_count": null,
   "metadata": {},
   "outputs": [],
   "source": [
    "print(nx.density(les), nx.average_clustering(les), nx.average_shortest_path_length(les))"
   ]
  },
  {
   "cell_type": "markdown",
   "metadata": {},
   "source": [
    "Here we draw the graph with the names of the characters showing."
   ]
  },
  {
   "cell_type": "code",
   "execution_count": null,
   "metadata": {},
   "outputs": [],
   "source": [
    "nx.draw(les, with_labels=True)"
   ]
  },
  {
   "cell_type": "code",
   "execution_count": null,
   "metadata": {},
   "outputs": [],
   "source": [
    "degree_sequence = sorted((d for n, d in les.degree()), reverse=True)\n",
    "print(f\"Average degree: {np.average(degree_sequence)}\")\n",
    "print(f\"Clustering coefficient: {nx.average_clustering(les)}\")"
   ]
  },
  {
   "cell_type": "code",
   "execution_count": null,
   "metadata": {},
   "outputs": [],
   "source": [
    "for i in sorted(les.degree()):\n",
    "    print(i[0], les.degree()[i[0]])"
   ]
  },
  {
   "cell_type": "markdown",
   "metadata": {},
   "source": [
    "Here we display the ego graphs of some of the central characters: that is, the graphs that are centered on those characters and that display just theiir neighbours (and the relations between them)."
   ]
  },
  {
   "cell_type": "code",
   "execution_count": null,
   "metadata": {},
   "outputs": [],
   "source": [
    "V = nx.ego_graph(les, \"Valjean\")\n",
    "nx.draw(V, with_labels=True)\n",
    "print(nx.density(V), nx.average_clustering(V), nx.average_shortest_path_length(V))"
   ]
  },
  {
   "cell_type": "code",
   "execution_count": null,
   "metadata": {},
   "outputs": [],
   "source": [
    "J = nx.ego_graph(les, \"Javert\")\n",
    "nx.draw(J, with_labels=True)\n",
    "print(nx.density(J), nx.average_clustering(J), nx.average_shortest_path_length(J))"
   ]
  },
  {
   "cell_type": "code",
   "execution_count": null,
   "metadata": {},
   "outputs": [],
   "source": [
    "C = nx.ego_graph(les, \"Cosette\")\n",
    "nx.draw(C, with_labels=True)\n",
    "print(nx.density(C), nx.average_clustering(C), nx.average_shortest_path_length(C))"
   ]
  },
  {
   "cell_type": "markdown",
   "metadata": {
    "id": "94W-v_kff3_L"
   },
   "source": [
    "## Francis Bacon"
   ]
  },
  {
   "cell_type": "markdown",
   "metadata": {},
   "source": [
    "Here we look at a graph of interest to historians and philosophers, drawn from https://www.sixdegreesoffrancisbacon.com/. We need to import the numpy library to help with this. Note also that the graph is stored in a different file format than the College Message text file."
   ]
  },
  {
   "cell_type": "code",
   "execution_count": null,
   "metadata": {},
   "outputs": [],
   "source": [
    "import numpy as np"
   ]
  },
  {
   "cell_type": "code",
   "execution_count": null,
   "metadata": {},
   "outputs": [],
   "source": [
    "# Load graph from GML file\n",
    "fb = nx.read_gml('../drafts/francisbacon.gml.gz', destringizer=int)\n"
   ]
  },
  {
   "cell_type": "code",
   "execution_count": null,
   "metadata": {},
   "outputs": [],
   "source": [
    "print(\"Is the graph simply connected?\", nx.is_connected(fb))\n",
    "print('The number of connected components is', nx.number_connected_components(fb))"
   ]
  },
  {
   "cell_type": "code",
   "execution_count": null,
   "metadata": {},
   "outputs": [],
   "source": [
    "print('The number of nodes is', len(fb.nodes()))\n",
    "print('and the number of edges is', len(fb.edges))"
   ]
  },
  {
   "cell_type": "code",
   "execution_count": null,
   "metadata": {},
   "outputs": [],
   "source": [
    "# Display the node data\n",
    "fb.nodes(data=True)"
   ]
  },
  {
   "cell_type": "markdown",
   "metadata": {},
   "source": [
    "The graph as a whole is too large to usefully visualize with networkx, but we can look at a subgraph."
   ]
  },
  {
   "cell_type": "code",
   "execution_count": null,
   "metadata": {},
   "outputs": [],
   "source": [
    "# Display the ego graph of the first node, Mildred Cecil\n",
    "MC = nx.ego_graph(fb, 0)\n",
    "nx.draw(MC)"
   ]
  },
  {
   "cell_type": "code",
   "execution_count": null,
   "metadata": {},
   "outputs": [],
   "source": [
    "# Display the ego graph for Margaret Cavendish (node 2434)\n",
    "\n",
    "MCa = nx.ego_graph(fb, 2434)\n",
    "nx.draw(MCa)"
   ]
  },
  {
   "cell_type": "markdown",
   "metadata": {},
   "source": [
    " A standrd (1-hop) ego graph includes the central node (ego) and all its immediate neighbors. But a 2-hop ego graph includes the central node, its immediate neighbors, and the neighbors of those neighbors. \n",
    " \n",
    " It will be a lot larger and take much longer to draw."
   ]
  },
  {
   "cell_type": "code",
   "execution_count": null,
   "metadata": {},
   "outputs": [],
   "source": [
    "MCa_2hop = nx.ego_graph(fb, 2434, radius=2)\n",
    "\n",
    "print(\"Number of nodes in the one-hop graph:\", len(MCa.nodes()))\n",
    "print(\"Number of nodes in the two-hop graph:\", len(MCa_2hop.nodes()))\n",
    "\n",
    "nx.draw(MCa_2hop)\n"
   ]
  },
  {
   "cell_type": "markdown",
   "metadata": {},
   "source": [
    "Even with only 2 degrees of separation, the Margaret Cavendish graph is hard to visualize in networkx.\n",
    "Plotly provides a simple alternative that can display large networks more effectively, with an interactive zoom functionality.\n",
    "However, a graph of this size will still be hard to see."
   ]
  },
  {
   "cell_type": "code",
   "execution_count": null,
   "metadata": {},
   "outputs": [],
   "source": [
    "try:\n",
    "    import plotly\n",
    "except ImportError:\n",
    "    !pip install plotly networkx\n"
   ]
  },
  {
   "cell_type": "code",
   "execution_count": null,
   "metadata": {},
   "outputs": [],
   "source": [
    "import plotly.graph_objs as go\n",
    "from networkx.drawing.layout import spring_layout"
   ]
  },
  {
   "cell_type": "code",
   "execution_count": null,
   "metadata": {},
   "outputs": [],
   "source": [
    "MCa_2hop = nx.ego_graph(fb, 2434, radius=2)\n",
    "pos = spring_layout(MCa_2hop)\n",
    "nx_graph_trace = go.Scatter(\n",
    "    x=[pos[n][0] for n in MCa_2hop.nodes()],\n",
    "    y=[pos[n][1] for n in MCa_2hop.nodes()],\n",
    "    mode='markers+lines',\n",
    "    line=dict(width=1, color='#888'),\n",
    "    marker=dict(size=10, color='skyblue')\n",
    ")\n",
    "fig = go.Figure(data=[nx_graph_trace])\n",
    "\n",
    "fig.update_layout(\n",
    "    width=800,  \n",
    "    height=800,  \n",
    "    showlegend=False,\n",
    "    hovermode='closest',\n",
    "    xaxis=dict(showgrid=False, zeroline=False, showticklabels=False), \n",
    "    yaxis=dict(showgrid=False, zeroline=False, showticklabels=False),\n",
    "    plot_bgcolor='white'\n",
    ")\n",
    "\n",
    "fig.show()\n"
   ]
  },
  {
   "cell_type": "code",
   "execution_count": null,
   "metadata": {},
   "outputs": [],
   "source": []
  },
  {
   "cell_type": "markdown",
   "metadata": {},
   "source": [
    "Degrees"
   ]
  },
  {
   "cell_type": "code",
   "execution_count": null,
   "metadata": {},
   "outputs": [],
   "source": [
    "fb_degree_sequence = sorted((d for n, d in fb.degree()), reverse=True)\n",
    "print(fb_degree_sequence)\n",
    "print(f\"Average degree: {np.average(fb_degree_sequence)}\")"
   ]
  },
  {
   "cell_type": "code",
   "execution_count": null,
   "metadata": {},
   "outputs": [],
   "source": [
    "fbdeg = dict(fb.degree()).values()\n",
    "print(fbdeg)"
   ]
  },
  {
   "cell_type": "code",
   "execution_count": null,
   "metadata": {},
   "outputs": [],
   "source": [
    "from collections import Counter\n",
    "\n",
    "fbdeg_distri = Counter(fbdeg)\n",
    "print(fbdeg_distri)"
   ]
  },
  {
   "cell_type": "code",
   "execution_count": null,
   "metadata": {},
   "outputs": [],
   "source": [
    "x = []\n",
    "y = []\n",
    "\n",
    "for i in sorted(fbdeg_distri):\n",
    "    x.append(i)\n",
    "    y.append(fbdeg_distri[i] / len(fb))\n",
    "\n",
    "plt.figure(figsize=(10, 7))\n",
    "plt.plot(x, y)\n",
    "\n",
    "plt.xlabel(\"$k$\", fontsize=18)\n",
    "plt.ylabel(\"$P(k)$\", fontsize=18)\n",
    "\n",
    "plt.xticks(fontsize=14)\n",
    "plt.yticks(fontsize=14)\n",
    "\n",
    "plt.yscale(\"log\")\n",
    "plt.xscale(\"log\")\n",
    "plt.axis([1, 10000, 0.00001, 1.0])"
   ]
  },
  {
   "cell_type": "markdown",
   "metadata": {},
   "source": [
    "In the above we can see that the Francis Bacon network approximates the preferential attachment model, with a large number of nodes with few edges, and a much smaller number that have many connections."
   ]
  },
  {
   "cell_type": "markdown",
   "metadata": {},
   "source": [
    "Clustering"
   ]
  },
  {
   "cell_type": "code",
   "execution_count": null,
   "metadata": {},
   "outputs": [],
   "source": [
    "nx.triangles(fb)"
   ]
  },
  {
   "cell_type": "code",
   "execution_count": null,
   "metadata": {},
   "outputs": [],
   "source": [
    "# total triangles in the Francis Bacon graph\n",
    "tt = sum(list(nx.triangles(fb).values()))\n",
    "print('The total number of triangles in the Francis Bacon graph is', tt/3)\n",
    "\n",
    "# transitivity\n",
    "print('The transitivity of the graph is', nx.transitivity(fb))"
   ]
  },
  {
   "cell_type": "code",
   "execution_count": null,
   "metadata": {},
   "outputs": [],
   "source": [
    "# Distribution of triangles in the Francis Bacon graph\n",
    "# This will show how many nodes are part of each number of triangles.\n",
    "\n",
    "plt.figure(figsize=(10, 6))\n",
    "plt.hist(list(nx.triangles(fb).values()), bins=40, edgecolor='black')\n",
    "plt.xlabel(\"Number of Triangles\")\n",
    "plt.ylabel(\"Frequency\")\n",
    "plt.yscale(\"log\")\n",
    "plt.show()\n"
   ]
  },
  {
   "cell_type": "code",
   "execution_count": null,
   "metadata": {},
   "outputs": [],
   "source": [
    "nx.clustering(fb)"
   ]
  },
  {
   "cell_type": "code",
   "execution_count": null,
   "metadata": {},
   "outputs": [],
   "source": [
    "print('The average clustering is', nx.average_clustering(fb))"
   ]
  },
  {
   "cell_type": "code",
   "execution_count": null,
   "metadata": {
    "scrolled": false
   },
   "outputs": [],
   "source": [
    "# Distribution of clustering coefficients of nodes in the Francis Bacon graph\n",
    "\n",
    "plt.figure(figsize=(10, 6))\n",
    "plt.hist(list(nx.clustering(fb).values()), bins=50, edgecolor='black')\n",
    "plt.xlabel(\"Clustering Coefficient\")\n",
    "plt.ylabel(\"Frequency\")\n",
    "plt.show()\n"
   ]
  },
  {
   "cell_type": "code",
   "execution_count": null,
   "metadata": {},
   "outputs": [],
   "source": [
    "# KDE plot of clustering coefficients\n",
    "# A KDE plot is a continuous analogue of a histogram.\n",
    "# These are easiest to draw using the seaborn package.\n",
    "\n",
    "import seaborn as sns\n",
    "\n",
    "plt.figure(figsize=(10, 6))\n",
    "sns.kdeplot(list(nx.clustering(fb).values()))\n",
    "plt.xlabel(\"Clustering Coefficient\")\n",
    "plt.ylabel(\"Density\")\n",
    "plt.show()\n",
    "\n"
   ]
  },
  {
   "cell_type": "markdown",
   "metadata": {},
   "source": [
    "Paths"
   ]
  },
  {
   "cell_type": "code",
   "execution_count": null,
   "metadata": {},
   "outputs": [],
   "source": [
    "# The diameter (aka longest shortest path)\n",
    "\n",
    "print('The diameter of the Francis Bacon graph is', nx.diameter(fb))"
   ]
  },
  {
   "cell_type": "code",
   "execution_count": null,
   "metadata": {},
   "outputs": [],
   "source": [
    "# Maybe it would have been more efficient to compute and save the eccentricity, then find the max and the average? In any case, here we look at...\n",
    "\n",
    "# Average shortest path\n",
    "print('The average shortest path length is', nx.average_shortest_path_length(fb))"
   ]
  },
  {
   "cell_type": "code",
   "execution_count": null,
   "metadata": {},
   "outputs": [],
   "source": [
    "print('The logarithm of the size of the network is', np.log10(len(fb)))"
   ]
  },
  {
   "cell_type": "markdown",
   "metadata": {},
   "source": [
    "So the Francis Bacon network is small world: its average shortest path is the same order of magnitude as the logarithm of its size."
   ]
  },
  {
   "cell_type": "markdown",
   "metadata": {},
   "source": [
    "Centrality"
   ]
  },
  {
   "cell_type": "markdown",
   "metadata": {},
   "source": [
    "Here we get the degree centrality for each node: this is a measure of how many neighbours the node has, relative to how many it could have in a network of the same size."
   ]
  },
  {
   "cell_type": "code",
   "execution_count": null,
   "metadata": {},
   "outputs": [],
   "source": [
    "nx.degree_centrality(fb)"
   ]
  },
  {
   "cell_type": "code",
   "execution_count": null,
   "metadata": {},
   "outputs": [],
   "source": [
    "fb_deg_cent = dict(nx.degree_centrality(fb)).values()\n",
    "print(sorted(fb_deg_cent, reverse=True))"
   ]
  },
  {
   "cell_type": "code",
   "execution_count": null,
   "metadata": {},
   "outputs": [],
   "source": [
    "# Distribution of degree centrality of nodes in the Francis Bacon graph\n",
    "\n",
    "plt.figure(figsize=(10, 6))\n",
    "plt.hist(list(nx.degree_centrality(fb).values()), bins=50, edgecolor='black')\n",
    "plt.xlabel(\"Degree Centrality\")\n",
    "plt.ylabel(\"Frequency\")\n",
    "plt.yscale(\"log\")\n",
    "plt.show()\n"
   ]
  },
  {
   "cell_type": "code",
   "execution_count": null,
   "metadata": {},
   "outputs": [],
   "source": [
    "# KDE plot of degree centrality of nodes\n",
    "\n",
    "plt.figure(figsize=(10, 6))\n",
    "sns.kdeplot(list(nx.degree_centrality(fb).values()))\n",
    "plt.xlabel(\"Degree Centrality\")\n",
    "plt.ylabel(\"Density\")\n",
    "plt.show()\n"
   ]
  },
  {
   "cell_type": "code",
   "execution_count": null,
   "metadata": {},
   "outputs": [],
   "source": [
    "fb_deg_cent2 = dict(nx.degree_centrality(fb))\n",
    "print(fb_deg_cent2)\n",
    "\n",
    "# Is there a way to find the node with the max degree centrality? And disply the ego graph of that node?"
   ]
  },
  {
   "cell_type": "markdown",
   "metadata": {},
   "source": [
    "Find the node with greatest degree centrality"
   ]
  },
  {
   "cell_type": "code",
   "execution_count": null,
   "metadata": {},
   "outputs": [],
   "source": [
    "max_cent_node = max(fb_deg_cent2, key=fb_deg_cent2.get)\n",
    "\n",
    "print(\"Node with maximum degree centrality:\", max_cent_node)\n",
    "print(\"Its degree centrality value:\", fb_deg_cent2[max_cent_node])\n",
    "print(\"Degree of the node \", {max_cent_node}, \" : \", fb.degree(max_cent_node))\n"
   ]
  },
  {
   "cell_type": "markdown",
   "metadata": {},
   "source": [
    "Draw the ego graph of the node with the greatest degree centrality\n",
    "(This might take a couple of minutes to draw)"
   ]
  },
  {
   "cell_type": "code",
   "execution_count": null,
   "metadata": {},
   "outputs": [],
   "source": [
    "plt.figure(figsize=(12, 8))\n",
    "D = nx.ego_graph(fb, max_cent_node)\n",
    "nx.draw(D)\n",
    "plt.show()\n"
   ]
  },
  {
   "cell_type": "code",
   "execution_count": null,
   "metadata": {},
   "outputs": [],
   "source": [
    "#Plotly visualisation\n",
    "pos = spring_layout(D)\n",
    "nx_graph_trace = go.Scatter(\n",
    "    x=[pos[n][0] for n in D.nodes()],\n",
    "    y=[pos[n][1] for n in D.nodes()],\n",
    "    mode='markers+lines',\n",
    "    line=dict(width=1, color='#888'),\n",
    "    marker=dict(size=10, color='skyblue')\n",
    ")\n",
    "\n",
    "fig = go.Figure(data=[nx_graph_trace])\n",
    "\n",
    "fig.update_layout(\n",
    "    width=800,  \n",
    "    height=800,  \n",
    "    showlegend=False,\n",
    "    hovermode='closest',\n",
    "    xaxis=dict(showgrid=False, zeroline=False, showticklabels=False), \n",
    "    yaxis=dict(showgrid=False, zeroline=False, showticklabels=False),\n",
    "    plot_bgcolor='white'\n",
    ")\n",
    "\n",
    "fig.show()\n"
   ]
  },
  {
   "cell_type": "code",
   "execution_count": null,
   "metadata": {},
   "outputs": [],
   "source": [
    "# tried to do this for betweenness centrality and ran for 90+ minutes before I force-stopped it!\n",
    "\n",
    "fb_eig_cent = dict(nx.eigenvector_centrality(fb)).values()\n",
    "# Let's just print the top 20 eigenvector centrality values:\n",
    "print(sorted(fb_eig_cent, reverse=True)[:20])\n"
   ]
  },
  {
   "cell_type": "code",
   "execution_count": null,
   "metadata": {},
   "outputs": [],
   "source": [
    "# Histogram of all eigenvector centrality values\n",
    "plt.figure(figsize=(12, 6))\n",
    "plt.hist(fb_eig_cent, bins=50, edgecolor='black')\n",
    "plt.xlabel(\"Eigenvector Centrality\")\n",
    "plt.ylabel(\"Frequency\")\n",
    "plt.yscale(\"log\")\n",
    "plt.show()\n",
    "\n"
   ]
  },
  {
   "cell_type": "code",
   "execution_count": null,
   "metadata": {},
   "outputs": [],
   "source": [
    "#fb_close_cent = dict(nx.closeness_centrality(fb)).values()\n",
    "#print(sorted(fb_close_cent, reverse=True)[:20])\n",
    "\n",
    "# This also takes a long time to run."
   ]
  },
  {
   "cell_type": "code",
   "execution_count": null,
   "metadata": {},
   "outputs": [],
   "source": [
    "\n"
   ]
  },
  {
   "cell_type": "code",
   "execution_count": null,
   "metadata": {},
   "outputs": [],
   "source": []
  },
  {
   "cell_type": "code",
   "execution_count": null,
   "metadata": {},
   "outputs": [],
   "source": []
  },
  {
   "cell_type": "code",
   "execution_count": null,
   "metadata": {},
   "outputs": [],
   "source": []
  }
 ],
 "metadata": {
  "colab": {
   "provenance": []
  },
  "kernelspec": {
   "display_name": "Python 3 (ipykernel)",
   "language": "python",
   "name": "python3"
  },
  "language_info": {
   "codemirror_mode": {
    "name": "ipython",
    "version": 3
   },
   "file_extension": ".py",
   "mimetype": "text/x-python",
   "name": "python",
   "nbconvert_exporter": "python",
   "pygments_lexer": "ipython3",
   "version": "3.11.4"
  },
  "toc": {
   "base_numbering": 1,
   "nav_menu": {},
   "number_sections": true,
   "sideBar": true,
   "skip_h1_title": false,
   "title_cell": "Table of Contents",
   "title_sidebar": "Contents",
   "toc_cell": false,
   "toc_position": {},
   "toc_section_display": true,
   "toc_window_display": true
  }
 },
 "nbformat": 4,
 "nbformat_minor": 1
}
