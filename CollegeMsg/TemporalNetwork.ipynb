{
 "cells": [
  {
   "cell_type": "markdown",
   "id": "c48e8d9e-758f-4f35-bba7-de66892b4692",
   "metadata": {},
   "source": [
    "We analyze the dataset 'CollegeMsg' available from the SNAP repository: http://snap.stanford.edu/data/index.html\n",
    "\n",
    "Downloaded from here: https://snap.stanford.edu/data/CollegeMsg.html"
   ]
  },
  {
   "cell_type": "markdown",
   "id": "6364a467-a760-4c03-89a3-be7c4a29f37f",
   "metadata": {},
   "source": [
    "The data consists private messages sent on an online social network at the University of California, Irvine for a time frame of 193 days.  Each row corresponds to an edge, indicating a message sent from the source node (user) to the target node (user) at a specific time.\n",
    "Time is specified as Unix timestamp (seconds since the epoch). Unix timestamps represent the number of seconds that have passed since January 1, 1970 (known as the Unix epoch)."
   ]
  },
  {
   "cell_type": "markdown",
   "id": "4c32742f-7a09-4290-9fd5-c4054dacd644",
   "metadata": {},
   "source": [
    "let's start by having a look to how the data look like\n"
   ]
  },
  {
   "cell_type": "code",
   "execution_count": 1,
   "id": "93b6a867-7330-43c5-ba4e-0631b645996e",
   "metadata": {},
   "outputs": [],
   "source": [
    "#import libraries \n",
    "import sys\n",
    "import pandas as pd\n",
    "import networkx as nx\n",
    "import os\n",
    "\n",
    "module_path = '/Users/mariafedericanorelli/Desktop/humannetworkscience/drafts/FromData2Graphs'\n",
    "sys.path.append(os.path.abspath(module_path))\n",
    "from fromData2Graphs import txt_to_csv, read_csv, normalize_graph, create_temporal_graph, save_graph"
   ]
  },
  {
   "cell_type": "code",
   "execution_count": 2,
   "id": "450ff8fc-7e37-4bfc-aa95-600b444f7b57",
   "metadata": {},
   "outputs": [],
   "source": [
    "_DATACACHE = \"~/polygraphs-cache/data\""
   ]
  },
  {
   "cell_type": "code",
   "execution_count": 3,
   "id": "27c620a3-f266-4fd7-b9e0-1aeebcccaa37",
   "metadata": {},
   "outputs": [
    {
     "name": "stdout",
     "output_type": "stream",
     "text": [
      "Conversion completed. CSV file saved at: /Users/mariafedericanorelli/Desktop/humannetworkscience/datasets/CollegeMsg.csv\n"
     ]
    }
   ],
   "source": [
    "\n",
    "#convert from txt to csv  \n",
    "input_file = '/Users/mariafedericanorelli/Desktop/humannetworkscience/datasets/CollegeMsg.txt'\n",
    "output_file = '/Users/mariafedericanorelli/Desktop/humannetworkscience/datasets/CollegeMsg.csv'\n",
    "txt_to_csv(input_file, output_file)"
   ]
  },
  {
   "cell_type": "code",
   "execution_count": 4,
   "id": "d5938e23-9ee2-48c0-a570-f8d7efffedce",
   "metadata": {},
   "outputs": [
    {
     "data": {
      "text/html": [
       "<div>\n",
       "<style scoped>\n",
       "    .dataframe tbody tr th:only-of-type {\n",
       "        vertical-align: middle;\n",
       "    }\n",
       "\n",
       "    .dataframe tbody tr th {\n",
       "        vertical-align: top;\n",
       "    }\n",
       "\n",
       "    .dataframe thead th {\n",
       "        text-align: right;\n",
       "    }\n",
       "</style>\n",
       "<table border=\"1\" class=\"dataframe\">\n",
       "  <thead>\n",
       "    <tr style=\"text-align: right;\">\n",
       "      <th></th>\n",
       "      <th>SRC</th>\n",
       "      <th>DST</th>\n",
       "      <th>timestamp</th>\n",
       "    </tr>\n",
       "  </thead>\n",
       "  <tbody>\n",
       "    <tr>\n",
       "      <th>0</th>\n",
       "      <td>3</td>\n",
       "      <td>4</td>\n",
       "      <td>1082155839</td>\n",
       "    </tr>\n",
       "    <tr>\n",
       "      <th>1</th>\n",
       "      <td>5</td>\n",
       "      <td>2</td>\n",
       "      <td>1082414391</td>\n",
       "    </tr>\n",
       "    <tr>\n",
       "      <th>2</th>\n",
       "      <td>6</td>\n",
       "      <td>7</td>\n",
       "      <td>1082439619</td>\n",
       "    </tr>\n",
       "    <tr>\n",
       "      <th>3</th>\n",
       "      <td>8</td>\n",
       "      <td>7</td>\n",
       "      <td>1082439756</td>\n",
       "    </tr>\n",
       "    <tr>\n",
       "      <th>4</th>\n",
       "      <td>9</td>\n",
       "      <td>10</td>\n",
       "      <td>1082440403</td>\n",
       "    </tr>\n",
       "  </tbody>\n",
       "</table>\n",
       "</div>"
      ],
      "text/plain": [
       "   SRC  DST   timestamp\n",
       "0    3    4  1082155839\n",
       "1    5    2  1082414391\n",
       "2    6    7  1082439619\n",
       "3    8    7  1082439756\n",
       "4    9   10  1082440403"
      ]
     },
     "execution_count": 4,
     "metadata": {},
     "output_type": "execute_result"
    }
   ],
   "source": [
    "#read it \n",
    "messages, source, dest, timestamps = read_csv(output_file, source_column_name = 'SRC', destination_column_name= 'DST', timestamp_column_name='timestamp') \n",
    "\n",
    "messages.head()"
   ]
  },
  {
   "cell_type": "markdown",
   "id": "11bdfc4c-0a79-4b52-8179-f13d234a960c",
   "metadata": {},
   "source": [
    "preprocess the data to have to the format we need (source, target, timestamp)"
   ]
  },
  {
   "cell_type": "code",
   "execution_count": 5,
   "id": "f8b2945f-d5ee-4caf-a645-d909b08717f1",
   "metadata": {},
   "outputs": [
    {
     "name": "stdout",
     "output_type": "stream",
     "text": [
      "The temporal graph has 1899 nodes and 20295 edges\n"
     ]
    }
   ],
   "source": [
    "#create the graph \n",
    "G = create_temporal_graph(source, dest, timestamps)"
   ]
  },
  {
   "cell_type": "code",
   "execution_count": 6,
   "id": "71603e26-a5ff-47d9-a0a9-9b51f7e3d1da",
   "metadata": {},
   "outputs": [
    {
     "name": "stdout",
     "output_type": "stream",
     "text": [
      "The graph has 1899 nodes and 20295 edges\n"
     ]
    }
   ],
   "source": [
    "#normalize the graph\n",
    "normalized_graph = normalize_graph(G)\n",
    "print(f\"The graph has {len(normalized_graph.nodes())} nodes and {len(normalized_graph.edges())} edges\")"
   ]
  },
  {
   "cell_type": "code",
   "execution_count": 7,
   "id": "c1b5d193-18ed-424b-a72c-0f7297fe9680",
   "metadata": {},
   "outputs": [
    {
     "name": "stdout",
     "output_type": "stream",
     "text": [
      "Inspecting edge attributes...\n",
      "Edge from 0 to 1 - Attributes: {'timestamp': 1082155839}\n",
      "Edge (0, 1) - Timestamp: 1082155839\n",
      "Edge from 0 to 2 - Attributes: {'timestamp': 1082624696}\n",
      "Edge (0, 2) - Timestamp: 1082624696\n",
      "Edge from 0 to 3 - Attributes: {'timestamp': 1088378565}\n",
      "Edge (0, 3) - Timestamp: 1088378565\n",
      "Edge from 0 to 4 - Attributes: {'timestamp': 1082751801}\n",
      "Edge (0, 4) - Timestamp: 1082751801\n"
     ]
    }
   ],
   "source": [
    "# check for Unix timestamps \n",
    "counter = 0  # Initialize a counter to limit the output\n",
    "max_edges = 4  # Set the maximum number of edges you want to print\n",
    "\n",
    "print(\"Inspecting edge attributes...\")\n",
    "\n",
    "for u, v, data in normalized_graph.edges(data=True):\n",
    "    print(f\"Edge from {u} to {v} - Attributes: {data}\")\n",
    "    \n",
    "    # Check if 'timestamp' is present in the edge attributes\n",
    "    timestamp = data.get('timestamp')\n",
    "    if timestamp is not None:\n",
    "        print(f\"Edge ({u}, {v}) - Timestamp: {timestamp}\")\n",
    "    else:\n",
    "        print(\"No timestamp found in this edge.\")\n",
    "        \n",
    "    counter += 1  # Increment the counter\n",
    "    if counter >= max_edges:  # Stop if the counter reaches the limit\n",
    "        break"
   ]
  },
  {
   "cell_type": "code",
   "execution_count": 8,
   "id": "a706e863-ac10-466e-993d-f1e757aaad9a",
   "metadata": {},
   "outputs": [
    {
     "name": "stdout",
     "output_type": "stream",
     "text": [
      "Graph saved as /Users/mariafedericanorelli/Desktop/humannetworkscience/graphs/College_Message_NG.gml\n"
     ]
    }
   ],
   "source": [
    "#save graph\n",
    "destination_folder = '/Users/mariafedericanorelli/Desktop/humannetworkscience/graphs'\n",
    "save_graph( normalized_graph, \"gml\", destination_folder, 'College_Message_NG')"
   ]
  },
  {
   "cell_type": "code",
   "execution_count": 9,
   "id": "0a05a31a-8c17-4f59-b7cf-9466220023cb",
   "metadata": {},
   "outputs": [
    {
     "name": "stdout",
     "output_type": "stream",
     "text": [
      "All node IDs are integers.\n"
     ]
    },
    {
     "data": {
      "text/plain": [
       "True"
      ]
     },
     "execution_count": 9,
     "metadata": {},
     "output_type": "execute_result"
    }
   ],
   "source": [
    "#check node ids are integers \n",
    "gml_file = '/Users/mariafedericanorelli/Desktop/humannetworkscience/graphs/College_Message_NG.gml'\n",
    "Graph = nx.read_gml(gml_file)\n",
    "# Function to check if all node IDs are integers\n",
    "def check_node_ids_are_integers(graph):\n",
    "    for node in graph.nodes():\n",
    "        # Check if node ID can be cast to an integer\n",
    "        try:\n",
    "            int(node)\n",
    "        except ValueError:\n",
    "            print(f\"Node ID '{node}' is not an integer.\")\n",
    "            return False\n",
    "    print(\"All node IDs are integers.\")\n",
    "    return True\n",
    "\n",
    "# Run the check\n",
    "check_node_ids_are_integers(Graph)"
   ]
  },
  {
   "cell_type": "code",
   "execution_count": 10,
   "id": "42e0189b-41ba-4db8-9cd1-c255074ba2e4",
   "metadata": {},
   "outputs": [
    {
     "name": "stdout",
     "output_type": "stream",
     "text": [
      "Inspecting edge attributes...\n",
      "Edge from 0 to 1 - Attributes: {'timestamp': 1082155839}\n",
      "Edge (0, 1) - Timestamp: 1082155839\n",
      "Edge from 0 to 2 - Attributes: {'timestamp': 1082624696}\n",
      "Edge (0, 2) - Timestamp: 1082624696\n",
      "Edge from 0 to 3 - Attributes: {'timestamp': 1088378565}\n",
      "Edge (0, 3) - Timestamp: 1088378565\n",
      "Edge from 0 to 4 - Attributes: {'timestamp': 1082751801}\n",
      "Edge (0, 4) - Timestamp: 1082751801\n"
     ]
    }
   ],
   "source": [
    "# double check for Unix timestamps \n",
    "counter = 0  # Initialize a counter to limit the output\n",
    "max_edges = 4  # Set the maximum number of edges you want to print\n",
    "\n",
    "print(\"Inspecting edge attributes...\")\n",
    "\n",
    "for u, v, data in Graph.edges(data=True):\n",
    "    print(f\"Edge from {u} to {v} - Attributes: {data}\")\n",
    "    \n",
    "    # Check if 'timestamp' is present in the edge attributes\n",
    "    timestamp = data.get('timestamp')\n",
    "    if timestamp is not None:\n",
    "        print(f\"Edge ({u}, {v}) - Timestamp: {timestamp}\")\n",
    "    else:\n",
    "        print(\"No timestamp found in this edge.\")\n",
    "        \n",
    "    counter += 1  # Increment the counter\n",
    "    if counter >= max_edges:  # Stop if the counter reaches the limit\n",
    "        break"
   ]
  },
  {
   "cell_type": "markdown",
   "id": "d31f3528-efdb-4854-969a-b564741d2f45",
   "metadata": {},
   "source": [
    "Running the Simulation"
   ]
  },
  {
   "cell_type": "markdown",
   "id": "6a9d2eb7-2fa1-4633-9a32-f39106303a8a",
   "metadata": {},
   "source": [
    "In Polygraphs, we run simulation on graphs using a configuration file with specific parameters. To adapt the software to temporal networks, the core idea we had is to use the timestamp data to create subgraphs that represent snapshots of the network at different time intervals (e.g., weeks or months) and run simulations on these subgraphs.\n",
    "\n",
    "The logic is to swicth subgraphs based on time steps. So, for each subgraph, the simulation will run for a specified number of steps before switching to the next subgraph. wE want temporal continuity between simulations: each interval's simulation should continue from where the previous one left off. This means that the beliefs (node states) at the end of one simulation should be the starting beliefs for the next interval's simulation.\n",
    "\n",
    "We need to add a new parameter 'interval' to our configuration file to specify the interval for subgraph creation (e.g. 'week', 'month')\n",
    "\n",
    "\n"
   ]
  },
  {
   "cell_type": "code",
   "execution_count": 11,
   "id": "4afc0459-dbef-4598-82ec-176757654eb8",
   "metadata": {},
   "outputs": [
    {
     "name": "stdout",
     "output_type": "stream",
     "text": [
      "Converted NetworkX graph to DGL graph.\n",
      "Total edges: 20295\n",
      "Created subgraph for interval 2004-04: 1516 edges.\n",
      "Graph ID for interval 2004-04: 6179508496\n",
      "SubGraph ID for interval 2004-04: 6120272080\n",
      "Edge (0, 1) - Timestamp: 1082155839\n",
      "Edge (0, 1011) - Timestamp: 1082624696\n",
      "Edge (0, 1233) - Timestamp: 1082751801\n",
      "Edge (0, 1344) - Timestamp: 1082832584\n",
      "Edge (0, 1677) - Timestamp: 1083040089\n",
      "Created subgraph for interval 2004-05: 12208 edges.\n",
      "Graph ID for interval 2004-05: 6179508496\n",
      "SubGraph ID for interval 2004-05: 6280721552\n",
      "Edge (0, 1566) - Timestamp: 1083900742\n",
      "Edge (0, 224) - Timestamp: 1083655411\n",
      "Edge (0, 446) - Timestamp: 1083808953\n",
      "Edge (0, 557) - Timestamp: 1083809094\n",
      "Edge (0, 668) - Timestamp: 1083901316\n",
      "Created subgraph for interval 2004-06: 3259 edges.\n",
      "Graph ID for interval 2004-06: 6179508496\n",
      "SubGraph ID for interval 2004-06: 6280972560\n",
      "Edge (0, 1122) - Timestamp: 1088378565\n",
      "Edge (0, 1234) - Timestamp: 1086234548\n",
      "Edge (0, 1245) - Timestamp: 1086233742\n",
      "Edge (0, 1267) - Timestamp: 1086291360\n",
      "Edge (0, 1300) - Timestamp: 1086685617\n",
      "Created subgraph for interval 2004-07: 1309 edges.\n",
      "Graph ID for interval 2004-07: 6179508496\n",
      "SubGraph ID for interval 2004-07: 6280719824\n",
      "Edge (0, 2) - Timestamp: 1089632770\n",
      "Edge (0, 335) - Timestamp: 1089632770\n",
      "Edge (0, 890) - Timestamp: 1089632770\n",
      "Edge (0, 1012) - Timestamp: 1089632773\n",
      "Edge (0, 1034) - Timestamp: 1089632770\n",
      "Created subgraph for interval 2004-08: 887 edges.\n",
      "Graph ID for interval 2004-08: 6179508496\n",
      "SubGraph ID for interval 2004-08: 6119729104\n",
      "Edge (0, 1222) - Timestamp: 1091532342\n",
      "Edge (0, 1422) - Timestamp: 1091532342\n",
      "Edge (0, 1511) - Timestamp: 1091532342\n",
      "Edge (0, 369) - Timestamp: 1093436605\n",
      "Edge (0, 458) - Timestamp: 1091384338\n",
      "Created subgraph for interval 2004-09: 687 edges.\n",
      "Graph ID for interval 2004-09: 6179508496\n",
      "SubGraph ID for interval 2004-09: 6246244368\n",
      "Edge (0, 1455) - Timestamp: 1094581041\n",
      "Edge (0, 1256) - Timestamp: 1094287199\n",
      "Edge (0, 1289) - Timestamp: 1094287217\n",
      "Edge (0, 558) - Timestamp: 1095039246\n",
      "Edge (0, 569) - Timestamp: 1095064723\n",
      "Created subgraph for interval 2004-10: 429 edges.\n",
      "Graph ID for interval 2004-10: 6179508496\n",
      "SubGraph ID for interval 2004-10: 6183631824\n",
      "Edge (0, 779) - Timestamp: 1097971961\n",
      "Edge (0, 1145) - Timestamp: 1097971960\n",
      "Edge (0, 1167) - Timestamp: 1097971961\n",
      "Edge (0, 1400) - Timestamp: 1097971961\n",
      "Edge (0, 1489) - Timestamp: 1097971961\n"
     ]
    },
    {
     "data": {
      "text/plain": [
       "[(Period('2004-04', 'M'),\n",
       "  Graph(num_nodes=1899, num_edges=1516,\n",
       "        ndata_schemes={'_ID': Scheme(shape=(), dtype=torch.int64)}\n",
       "        edata_schemes={'timestamp': Scheme(shape=(), dtype=torch.int64)})),\n",
       " (Period('2004-05', 'M'),\n",
       "  Graph(num_nodes=1899, num_edges=12208,\n",
       "        ndata_schemes={'_ID': Scheme(shape=(), dtype=torch.int64)}\n",
       "        edata_schemes={'timestamp': Scheme(shape=(), dtype=torch.int64)})),\n",
       " (Period('2004-06', 'M'),\n",
       "  Graph(num_nodes=1899, num_edges=3259,\n",
       "        ndata_schemes={'_ID': Scheme(shape=(), dtype=torch.int64)}\n",
       "        edata_schemes={'timestamp': Scheme(shape=(), dtype=torch.int64)})),\n",
       " (Period('2004-07', 'M'),\n",
       "  Graph(num_nodes=1899, num_edges=1309,\n",
       "        ndata_schemes={'_ID': Scheme(shape=(), dtype=torch.int64)}\n",
       "        edata_schemes={'timestamp': Scheme(shape=(), dtype=torch.int64)})),\n",
       " (Period('2004-08', 'M'),\n",
       "  Graph(num_nodes=1899, num_edges=887,\n",
       "        ndata_schemes={'_ID': Scheme(shape=(), dtype=torch.int64)}\n",
       "        edata_schemes={'timestamp': Scheme(shape=(), dtype=torch.int64)})),\n",
       " (Period('2004-09', 'M'),\n",
       "  Graph(num_nodes=1899, num_edges=687,\n",
       "        ndata_schemes={'_ID': Scheme(shape=(), dtype=torch.int64)}\n",
       "        edata_schemes={'timestamp': Scheme(shape=(), dtype=torch.int64)})),\n",
       " (Period('2004-10', 'M'),\n",
       "  Graph(num_nodes=1899, num_edges=429,\n",
       "        ndata_schemes={'_ID': Scheme(shape=(), dtype=torch.int64)}\n",
       "        edata_schemes={'timestamp': Scheme(shape=(), dtype=torch.int64)}))]"
      ]
     },
     "execution_count": 11,
     "metadata": {},
     "output_type": "execute_result"
    }
   ],
   "source": [
    "#check th interval creation.\n",
    "from polygraphs.graphs import create_subgraphs \n",
    "\n",
    "create_subgraphs (Graph, 'month')"
   ]
  },
  {
   "cell_type": "code",
   "execution_count": 12,
   "id": "66f9c7fa-fdef-474b-a189-f408a037bcb0",
   "metadata": {},
   "outputs": [
    {
     "name": "stdout",
     "output_type": "stream",
     "text": [
      "Interval loaded from config: month\n"
     ]
    }
   ],
   "source": [
    "#path to configuration file\n",
    "conf_path = '/Users/mariafedericanorelli/Desktop/humannetworkscience/polygraphs/configs/College_Message.yaml'\n",
    "\n",
    "# Add the path to polygraphs module\n",
    "sys.path.append('/Users/mariafedericanorelli/Desktop/humannetworkscience/polygraphs')\n",
    "\n",
    "# test_yaml_loading.py\n",
    "from polygraphs.hyperparameters import PolyGraphHyperParameters\n",
    "\n",
    "# see is the interval is the one we want \n",
    "params = PolyGraphHyperParameters.fromYAML(conf_path)\n",
    "\n",
    "print(\"Interval loaded from config:\", params.interval)"
   ]
  },
  {
   "cell_type": "code",
   "execution_count": 13,
   "id": "69d87597-58d4-4f63-b749-deaa79606357",
   "metadata": {},
   "outputs": [
    {
     "name": "stdout",
     "output_type": "stream",
     "text": [
      "Timestamps added to the graph.\n",
      "Total edges: 20295\n",
      "Created subgraph for interval 2004-04: 1516 edges.\n",
      "Graph ID for interval 2004-04: 6974342480\n",
      "SubGraph ID for interval 2004-04: 7004064144\n",
      "Edge (0, 1) - Timestamp: 1082155839\n",
      "Edge (0, 2) - Timestamp: 1082624696\n",
      "Edge (0, 4) - Timestamp: 1082751801\n",
      "Edge (0, 5) - Timestamp: 1082832584\n",
      "Edge (0, 8) - Timestamp: 1083040089\n",
      "Created subgraph for interval 2004-05: 12208 edges.\n",
      "Graph ID for interval 2004-05: 6974342480\n",
      "SubGraph ID for interval 2004-05: 7077250000\n",
      "Edge (0, 7) - Timestamp: 1083900742\n",
      "Edge (0, 12) - Timestamp: 1083655411\n",
      "Edge (0, 14) - Timestamp: 1083808953\n",
      "Edge (0, 15) - Timestamp: 1083809094\n",
      "Edge (0, 16) - Timestamp: 1083901316\n",
      "Created subgraph for interval 2004-06: 3259 edges.\n",
      "Graph ID for interval 2004-06: 6974342480\n",
      "SubGraph ID for interval 2004-06: 7076689296\n",
      "Edge (0, 3) - Timestamp: 1088378565\n",
      "Edge (0, 40) - Timestamp: 1086234548\n",
      "Edge (0, 41) - Timestamp: 1086233742\n",
      "Edge (0, 43) - Timestamp: 1086291360\n",
      "Edge (0, 46) - Timestamp: 1086685617\n",
      "Created subgraph for interval 2004-07: 1309 edges.\n",
      "Graph ID for interval 2004-07: 6974342480\n",
      "SubGraph ID for interval 2004-07: 7077044752\n",
      "Edge (0, 10) - Timestamp: 1089632770\n",
      "Edge (0, 13) - Timestamp: 1089632770\n",
      "Edge (0, 18) - Timestamp: 1089632770\n",
      "Edge (0, 20) - Timestamp: 1089632773\n",
      "Edge (0, 22) - Timestamp: 1089632770\n",
      "Created subgraph for interval 2004-08: 887 edges.\n",
      "Graph ID for interval 2004-08: 6974342480\n",
      "SubGraph ID for interval 2004-08: 7076991184\n",
      "Edge (0, 39) - Timestamp: 1091532342\n",
      "Edge (0, 57) - Timestamp: 1091532342\n",
      "Edge (0, 65) - Timestamp: 1091532342\n",
      "Edge (0, 133) - Timestamp: 1093436605\n",
      "Edge (0, 141) - Timestamp: 1091384338\n",
      "Created subgraph for interval 2004-09: 687 edges.\n",
      "Graph ID for interval 2004-09: 6974342480\n",
      "SubGraph ID for interval 2004-09: 7076989904\n",
      "Edge (0, 6) - Timestamp: 1094581041\n",
      "Edge (0, 42) - Timestamp: 1094287199\n",
      "Edge (0, 45) - Timestamp: 1094287217\n",
      "Edge (0, 150) - Timestamp: 1095039246\n",
      "Edge (0, 151) - Timestamp: 1095064723\n",
      "Created subgraph for interval 2004-10: 429 edges.\n",
      "Graph ID for interval 2004-10: 6974342480\n",
      "SubGraph ID for interval 2004-10: 6983102480\n",
      "Edge (0, 17) - Timestamp: 1097971961\n",
      "Edge (0, 32) - Timestamp: 1097971960\n",
      "Edge (0, 34) - Timestamp: 1097971961\n",
      "Edge (0, 55) - Timestamp: 1097971961\n",
      "Edge (0, 63) - Timestamp: 1097971961\n",
      "Number of subgraphs created: 7\n",
      "Running simulation 1/7 for interval: 2004-04, Steps: 42\n",
      "Subgraph for interval 2004-04 has 1516 edges and 1899 nodes.\n",
      "Beliefs before simulation 6982311440: tensor([0.7996, 0.2142, 0.3383,  ..., 0.6290, 0.8964, 0.4812])\n",
      "Beliefs at step 1: A/B = 965/934\n",
      "[MON] Interval None: step 0001 Ksteps/s   0.00 A/B 0.51/0.49\n",
      "Beliefs at step 42: A/B = 909/990\n",
      "[MON] Interval None: step 0042 Ksteps/s   0.28 A/B 0.48/0.52\n",
      " INFO polygraphs> Interval 2004-04: 42 steps    0.15s; action: ? undefined: False converged: False polarized: False\n",
      "Updated node states after simulation: tensor([0.5054, 0.9867, 0.9968,  ..., 0.8605, 0.1237, 0.4361])\n",
      "Running simulation 2/7 for interval: 2004-05, Steps: 42\n",
      "Subgraph for interval 2004-05 has 12208 edges and 1899 nodes.\n",
      "Beliefs before simulation 6973660624: tensor([0.5054, 0.9867, 0.9968,  ..., 0.8605, 0.1237, 0.4361])\n",
      "Beliefs at step 1: A/B = 916/983\n",
      "[MON] Interval None: step 0001 Ksteps/s   0.00 A/B 0.48/0.52\n",
      "Beliefs at step 42: A/B = 653/1246\n",
      "[MON] Interval None: step 0042 Ksteps/s   0.11 A/B 0.34/0.66\n",
      " INFO polygraphs> Interval 2004-05: 42 steps    0.38s; action: ? undefined: False converged: False polarized: False\n",
      "Updated node states after simulation: tensor([0.9960, 0.2448, 0.9843,  ..., 0.7170, 0.2676, 0.8993])\n",
      "Running simulation 3/7 for interval: 2004-06, Steps: 42\n",
      "Subgraph for interval 2004-06 has 3259 edges and 1899 nodes.\n",
      "Beliefs before simulation 6973660624: tensor([0.9960, 0.2448, 0.9843,  ..., 0.7170, 0.2676, 0.8993])\n",
      "Beliefs at step 1: A/B = 951/948\n",
      "[MON] Interval None: step 0001 Ksteps/s   0.00 A/B 0.50/0.50\n",
      "Beliefs at step 42: A/B = 836/1063\n",
      "[MON] Interval None: step 0042 Ksteps/s   0.29 A/B 0.44/0.56\n",
      " INFO polygraphs> Interval 2004-06: 42 steps    0.14s; action: ? undefined: False converged: False polarized: False\n",
      "Updated node states after simulation: tensor([0.1382, 0.9019, 0.0251,  ..., 0.8271, 0.1143, 0.9654])\n",
      "Running simulation 4/7 for interval: 2004-07, Steps: 42\n",
      "Subgraph for interval 2004-07 has 1309 edges and 1899 nodes.\n",
      "Beliefs before simulation 6973830992: tensor([0.1382, 0.9019, 0.0251,  ..., 0.8271, 0.1143, 0.9654])\n",
      "Beliefs at step 1: A/B = 979/920\n",
      "[MON] Interval None: step 0001 Ksteps/s   0.00 A/B 0.52/0.48\n",
      "Beliefs at step 42: A/B = 953/946\n",
      "[MON] Interval None: step 0042 Ksteps/s   0.36 A/B 0.50/0.50\n",
      " INFO polygraphs> Interval 2004-07: 42 steps    0.12s; action: ? undefined: False converged: False polarized: False\n",
      "Updated node states after simulation: tensor([0.9552, 0.8902, 0.1099,  ..., 0.2134, 0.1957, 0.4127])\n",
      "Running simulation 5/7 for interval: 2004-08, Steps: 42\n",
      "Subgraph for interval 2004-08 has 887 edges and 1899 nodes.\n",
      "Beliefs before simulation 6983102480: tensor([0.9552, 0.8902, 0.1099,  ..., 0.2134, 0.1957, 0.4127])\n",
      "Beliefs at step 1: A/B = 930/969\n",
      "[MON] Interval None: step 0001 Ksteps/s   0.00 A/B 0.49/0.51\n",
      "Beliefs at step 42: A/B = 894/1005\n",
      "[MON] Interval None: step 0042 Ksteps/s   0.39 A/B 0.47/0.53\n",
      " INFO polygraphs> Interval 2004-08: 42 steps    0.11s; action: ? undefined: False converged: False polarized: False\n",
      "Updated node states after simulation: tensor([0.7610, 0.0603, 0.9420,  ..., 0.6936, 0.5858, 0.4358])\n",
      "Running simulation 6/7 for interval: 2004-09, Steps: 42\n",
      "Subgraph for interval 2004-09 has 687 edges and 1899 nodes.\n",
      "Beliefs before simulation 4934978320: tensor([0.7610, 0.0603, 0.9420,  ..., 0.6936, 0.5858, 0.4358])\n",
      "Beliefs at step 1: A/B = 1016/883\n",
      "[MON] Interval None: step 0001 Ksteps/s   0.00 A/B 0.54/0.46\n",
      "Beliefs at step 42: A/B = 973/926\n",
      "[MON] Interval None: step 0042 Ksteps/s   0.41 A/B 0.51/0.49\n",
      " INFO polygraphs> Interval 2004-09: 42 steps    0.10s; action: ? undefined: False converged: False polarized: False\n",
      "Updated node states after simulation: tensor([0.8880, 0.2963, 0.7239,  ..., 0.6519, 0.3355, 0.2034])\n",
      "Running simulation 7/7 for interval: 2004-10, Steps: 42\n",
      "Subgraph for interval 2004-10 has 429 edges and 1899 nodes.\n",
      "Beliefs before simulation 4652835344: tensor([0.8880, 0.2963, 0.7239,  ..., 0.6519, 0.3355, 0.2034])\n",
      "Beliefs at step 1: A/B = 955/944\n",
      "[MON] Interval None: step 0001 Ksteps/s   0.00 A/B 0.50/0.50\n",
      "Beliefs at step 42: A/B = 945/954\n",
      "[MON] Interval None: step 0042 Ksteps/s   0.51 A/B 0.50/0.50\n",
      " INFO polygraphs> Interval 2004-10: 42 steps    0.08s; action: ? undefined: False converged: False polarized: False\n",
      "Updated node states after simulation: tensor([0.5189, 0.1788, 0.3308,  ..., 0.1969, 0.9080, 0.4427])\n",
      "Bye.\n"
     ]
    }
   ],
   "source": [
    "#simulation\n",
    "!polygraphs -f \"{conf_path}\""
   ]
  },
  {
   "cell_type": "markdown",
   "id": "9a75b094-67bc-423f-8748-1972b8ba9812",
   "metadata": {},
   "source": [
    "let's run the same simulation but on the static version of the graph, removing the timestamps"
   ]
  },
  {
   "cell_type": "code",
   "execution_count": 14,
   "id": "409609fd-c3a4-402d-998f-4394a0db2d81",
   "metadata": {},
   "outputs": [
    {
     "name": "stdout",
     "output_type": "stream",
     "text": [
      "The graph has 1899 nodes and 20295 edges\n",
      "Graph saved as /Users/mariafedericanorelli/Desktop/humannetworkscience/graphs/College_Message_SG.gml\n",
      "No timestamps found, running as a static graph without temporal information.\n",
      "Beliefs at step 1: A/B = 895/1004\n",
      "[MON] Interval None: step 0001 Ksteps/s   0.00 A/B 0.47/0.53\n",
      "Beliefs at step 100: A/B = 388/1511\n",
      "[MON] Interval None: step 0100 Ksteps/s   0.07 A/B 0.20/0.80\n",
      "Beliefs at step 200: A/B = 229/1670\n",
      "[MON] Interval None: step 0200 Ksteps/s   0.07 A/B 0.12/0.88\n",
      "Beliefs at step 300: A/B = 139/1760\n",
      "[MON] Interval None: step 0300 Ksteps/s   0.07 A/B 0.07/0.93\n",
      " INFO polygraphs> Sim #0001:    300 steps    4.57s; action: ? undefined: 0 converged: 0 polarized: 0 \n",
      "Bye.\n"
     ]
    }
   ],
   "source": [
    "from fromData2Graphs import create_graph\n",
    "G_static = create_graph (source, dest)\n",
    "\n",
    "#normalize it\n",
    "normalized_graph = normalize_graph(G_static)\n",
    "\n",
    "#save graph\n",
    "destination_folder = '/Users/mariafedericanorelli/Desktop/humannetworkscience/graphs'\n",
    "save_graph( normalized_graph, \"gml\", destination_folder, 'College_Message_SG')\n",
    "\n",
    "#simulate\n",
    "conf_path_S = '/Users/mariafedericanorelli/Desktop/humannetworkscience/polygraphs/configs/College_Message_SG.yaml'\n",
    "#simulate\n",
    "!polygraphs -f \"{conf_path_S}\""
   ]
  },
  {
   "cell_type": "code",
   "execution_count": null,
   "id": "bfe9ce43-8be0-4969-8cb1-77dc0124840d",
   "metadata": {},
   "outputs": [],
   "source": []
  }
 ],
 "metadata": {
  "kernelspec": {
   "display_name": "Python 3 (ipykernel)",
   "language": "python",
   "name": "python3"
  },
  "language_info": {
   "codemirror_mode": {
    "name": "ipython",
    "version": 3
   },
   "file_extension": ".py",
   "mimetype": "text/x-python",
   "name": "python",
   "nbconvert_exporter": "python",
   "pygments_lexer": "ipython3",
   "version": "3.11.5"
  }
 },
 "nbformat": 4,
 "nbformat_minor": 5
}
